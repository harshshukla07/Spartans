{
  "nbformat": 4,
  "nbformat_minor": 0,
  "metadata": {
    "kernelspec": {
      "display_name": "Python 3",
      "name": "python3"
    },
    "language_info": {
      "pygments_lexer": "ipython3",
      "nbconvert_exporter": "python",
      "version": "3.6.4",
      "file_extension": ".py",
      "codemirror_mode": {
        "name": "ipython",
        "version": 3
      },
      "name": "python",
      "mimetype": "text/x-python"
    },
    "colab": {
      "provenance": [],
      "gpuType": "V28"
    },
    "accelerator": "TPU"
  },
  "cells": [
    {
      "cell_type": "markdown",
      "metadata": {
        "id": "Amy6tOJLgUIt"
      },
      "source": [
        "# Library and Data"
      ]
    },
    {
      "cell_type": "code",
      "source": [
        "!pip install keras\n",
        "!pip install tensorflow\n",
        "\n"
      ],
      "metadata": {
        "colab": {
          "base_uri": "https://localhost:8080/"
        },
        "id": "nO9NJS9z__oF",
        "outputId": "0363179d-458f-4b02-94d9-3860d53a735c"
      },
      "execution_count": 1,
      "outputs": [
        {
          "output_type": "stream",
          "name": "stdout",
          "text": [
            "Requirement already satisfied: keras in /usr/local/lib/python3.10/dist-packages (2.15.0)\n",
            "Requirement already satisfied: tensorflow in /usr/local/lib/python3.10/dist-packages (2.15.0)\n",
            "Requirement already satisfied: absl-py>=1.0.0 in /usr/local/lib/python3.10/dist-packages (from tensorflow) (1.4.0)\n",
            "Requirement already satisfied: astunparse>=1.6.0 in /usr/local/lib/python3.10/dist-packages (from tensorflow) (1.6.3)\n",
            "Requirement already satisfied: flatbuffers>=23.5.26 in /usr/local/lib/python3.10/dist-packages (from tensorflow) (24.3.25)\n",
            "Requirement already satisfied: gast!=0.5.0,!=0.5.1,!=0.5.2,>=0.2.1 in /usr/local/lib/python3.10/dist-packages (from tensorflow) (0.6.0)\n",
            "Requirement already satisfied: google-pasta>=0.1.1 in /usr/local/lib/python3.10/dist-packages (from tensorflow) (0.2.0)\n",
            "Requirement already satisfied: h5py>=2.9.0 in /usr/local/lib/python3.10/dist-packages (from tensorflow) (3.12.1)\n",
            "Requirement already satisfied: libclang>=13.0.0 in /usr/local/lib/python3.10/dist-packages (from tensorflow) (18.1.1)\n",
            "Requirement already satisfied: ml-dtypes~=0.2.0 in /usr/local/lib/python3.10/dist-packages (from tensorflow) (0.2.0)\n",
            "Requirement already satisfied: numpy<2.0.0,>=1.23.5 in /usr/local/lib/python3.10/dist-packages (from tensorflow) (1.26.4)\n",
            "Requirement already satisfied: opt-einsum>=2.3.2 in /usr/local/lib/python3.10/dist-packages (from tensorflow) (3.4.0)\n",
            "Requirement already satisfied: packaging in /usr/local/lib/python3.10/dist-packages (from tensorflow) (24.1)\n",
            "Requirement already satisfied: protobuf!=4.21.0,!=4.21.1,!=4.21.2,!=4.21.3,!=4.21.4,!=4.21.5,<5.0.0dev,>=3.20.3 in /usr/local/lib/python3.10/dist-packages (from tensorflow) (3.20.3)\n",
            "Requirement already satisfied: setuptools in /usr/local/lib/python3.10/dist-packages (from tensorflow) (71.0.4)\n",
            "Requirement already satisfied: six>=1.12.0 in /usr/local/lib/python3.10/dist-packages (from tensorflow) (1.16.0)\n",
            "Requirement already satisfied: termcolor>=1.1.0 in /usr/local/lib/python3.10/dist-packages (from tensorflow) (2.4.0)\n",
            "Requirement already satisfied: typing-extensions>=3.6.6 in /usr/local/lib/python3.10/dist-packages (from tensorflow) (4.12.2)\n",
            "Requirement already satisfied: wrapt<1.15,>=1.11.0 in /usr/local/lib/python3.10/dist-packages (from tensorflow) (1.14.1)\n",
            "Requirement already satisfied: tensorflow-io-gcs-filesystem>=0.23.1 in /usr/local/lib/python3.10/dist-packages (from tensorflow) (0.37.1)\n",
            "Requirement already satisfied: grpcio<2.0,>=1.24.3 in /usr/local/lib/python3.10/dist-packages (from tensorflow) (1.66.2)\n",
            "Requirement already satisfied: tensorboard<2.16,>=2.15 in /usr/local/lib/python3.10/dist-packages (from tensorflow) (2.15.2)\n",
            "Requirement already satisfied: tensorflow-estimator<2.16,>=2.15.0 in /usr/local/lib/python3.10/dist-packages (from tensorflow) (2.15.0)\n",
            "Requirement already satisfied: keras<2.16,>=2.15.0 in /usr/local/lib/python3.10/dist-packages (from tensorflow) (2.15.0)\n",
            "Requirement already satisfied: wheel<1.0,>=0.23.0 in /usr/local/lib/python3.10/dist-packages (from astunparse>=1.6.0->tensorflow) (0.44.0)\n",
            "Requirement already satisfied: google-auth<3,>=1.6.3 in /usr/local/lib/python3.10/dist-packages (from tensorboard<2.16,>=2.15->tensorflow) (2.27.0)\n",
            "Requirement already satisfied: google-auth-oauthlib<2,>=0.5 in /usr/local/lib/python3.10/dist-packages (from tensorboard<2.16,>=2.15->tensorflow) (1.2.1)\n",
            "Requirement already satisfied: markdown>=2.6.8 in /usr/local/lib/python3.10/dist-packages (from tensorboard<2.16,>=2.15->tensorflow) (3.7)\n",
            "Requirement already satisfied: requests<3,>=2.21.0 in /usr/local/lib/python3.10/dist-packages (from tensorboard<2.16,>=2.15->tensorflow) (2.32.3)\n",
            "Requirement already satisfied: tensorboard-data-server<0.8.0,>=0.7.0 in /usr/local/lib/python3.10/dist-packages (from tensorboard<2.16,>=2.15->tensorflow) (0.7.2)\n",
            "Requirement already satisfied: werkzeug>=1.0.1 in /usr/local/lib/python3.10/dist-packages (from tensorboard<2.16,>=2.15->tensorflow) (3.0.4)\n",
            "Requirement already satisfied: cachetools<6.0,>=2.0.0 in /usr/local/lib/python3.10/dist-packages (from google-auth<3,>=1.6.3->tensorboard<2.16,>=2.15->tensorflow) (5.5.0)\n",
            "Requirement already satisfied: pyasn1-modules>=0.2.1 in /usr/local/lib/python3.10/dist-packages (from google-auth<3,>=1.6.3->tensorboard<2.16,>=2.15->tensorflow) (0.4.1)\n",
            "Requirement already satisfied: rsa<5,>=3.1.4 in /usr/local/lib/python3.10/dist-packages (from google-auth<3,>=1.6.3->tensorboard<2.16,>=2.15->tensorflow) (4.9)\n",
            "Requirement already satisfied: requests-oauthlib>=0.7.0 in /usr/local/lib/python3.10/dist-packages (from google-auth-oauthlib<2,>=0.5->tensorboard<2.16,>=2.15->tensorflow) (2.0.0)\n",
            "Requirement already satisfied: charset-normalizer<4,>=2 in /usr/local/lib/python3.10/dist-packages (from requests<3,>=2.21.0->tensorboard<2.16,>=2.15->tensorflow) (3.3.2)\n",
            "Requirement already satisfied: idna<4,>=2.5 in /usr/local/lib/python3.10/dist-packages (from requests<3,>=2.21.0->tensorboard<2.16,>=2.15->tensorflow) (3.10)\n",
            "Requirement already satisfied: urllib3<3,>=1.21.1 in /usr/local/lib/python3.10/dist-packages (from requests<3,>=2.21.0->tensorboard<2.16,>=2.15->tensorflow) (2.2.3)\n",
            "Requirement already satisfied: certifi>=2017.4.17 in /usr/local/lib/python3.10/dist-packages (from requests<3,>=2.21.0->tensorboard<2.16,>=2.15->tensorflow) (2024.8.30)\n",
            "Requirement already satisfied: MarkupSafe>=2.1.1 in /usr/local/lib/python3.10/dist-packages (from werkzeug>=1.0.1->tensorboard<2.16,>=2.15->tensorflow) (2.1.5)\n",
            "Requirement already satisfied: pyasn1<0.7.0,>=0.4.6 in /usr/local/lib/python3.10/dist-packages (from pyasn1-modules>=0.2.1->google-auth<3,>=1.6.3->tensorboard<2.16,>=2.15->tensorflow) (0.6.1)\n",
            "Requirement already satisfied: oauthlib>=3.0.0 in /usr/local/lib/python3.10/dist-packages (from requests-oauthlib>=0.7.0->google-auth-oauthlib<2,>=0.5->tensorboard<2.16,>=2.15->tensorflow) (3.2.2)\n"
          ]
        }
      ]
    },
    {
      "cell_type": "code",
      "metadata": {
        "_uuid": "8f2839f25d086af736a60e9eeb907d3b93b6e0e5",
        "_cell_guid": "b1076dfc-b9ad-4769-8c92-a6c4dae69d19",
        "trusted": true,
        "id": "JgxQvoETgUIu"
      },
      "source": [
        "import pandas as pd\n",
        "import numpy as np\n",
        "import seaborn as sns\n",
        "import matplotlib.pyplot as plt\n",
        "from sklearn.feature_extraction.text import CountVectorizer\n",
        "from sklearn.feature_extraction.text import TfidfVectorizer\n",
        "\n",
        "from sklearn import feature_extraction, linear_model, model_selection, preprocessing\n",
        "from sklearn.metrics import accuracy_score\n",
        "from sklearn.model_selection import train_test_split\n",
        "from sklearn.feature_extraction.text import TfidfTransformer\n",
        "from sklearn.pipeline import Pipeline\n",
        "from sklearn.svm import LinearSVC\n",
        "from sklearn.linear_model import LogisticRegression\n",
        "from sklearn.naive_bayes import GaussianNB\n",
        "from sklearn.naive_bayes import BernoulliNB\n",
        "from sklearn.naive_bayes import MultinomialNB\n",
        "from sklearn.naive_bayes import MultinomialNB\n",
        "\n",
        "from sklearn.ensemble import GradientBoostingClassifier\n",
        "from sklearn.tree import DecisionTreeClassifier\n",
        "from sklearn.neighbors import KNeighborsClassifier\n",
        "\n",
        "from sklearn.linear_model import SGDClassifier\n",
        "from sklearn.ensemble import RandomForestClassifier\n",
        "from sklearn.preprocessing import LabelEncoder\n",
        "from sklearn.gaussian_process import GaussianProcessClassifier\n",
        "from tensorflow.keras.models import Model\n",
        "from tensorflow.keras.layers import LSTM, Activation, Dense, Dropout, Input, Embedding\n",
        "from tensorflow.keras.optimizers import RMSprop\n",
        "from tensorflow.keras.preprocessing.text import Tokenizer\n",
        "from tensorflow.keras.preprocessing import sequence\n",
        "from tensorflow.keras.callbacks import EarlyStopping\n",
        "from collections import Counter, defaultdict\n",
        "\n",
        "import nltk\n",
        "import nltk as nlp\n",
        "import string\n",
        "import re\n"
      ],
      "execution_count": 2,
      "outputs": []
    },
    {
      "cell_type": "markdown",
      "metadata": {
        "id": "0NuMGBpJgUIx"
      },
      "source": [
        "# Reading Data"
      ]
    },
    {
      "cell_type": "code",
      "source": [
        "from google.colab import drive\n",
        "drive.mount('/content/drive')"
      ],
      "metadata": {
        "colab": {
          "base_uri": "https://localhost:8080/"
        },
        "id": "yt0KnoY0_XuI",
        "outputId": "8c13fe3b-80e9-44c8-d3aa-b084cb501667"
      },
      "execution_count": 4,
      "outputs": [
        {
          "output_type": "stream",
          "name": "stdout",
          "text": [
            "Mounted at /content/drive\n"
          ]
        }
      ]
    },
    {
      "cell_type": "code",
      "source": [
        "df = pd.read_csv('/content/drive/MyDrive/Skyhack/my_df.csv')"
      ],
      "metadata": {
        "id": "WMGlEhMFA66j"
      },
      "execution_count": 3,
      "outputs": []
    },
    {
      "cell_type": "code",
      "source": [
        "df"
      ],
      "metadata": {
        "colab": {
          "base_uri": "https://localhost:8080/",
          "height": 424
        },
        "id": "Zt6DLjYiBQfV",
        "outputId": "536a499b-ec38-4ea7-c3ef-2afb2a9659aa"
      },
      "execution_count": 4,
      "outputs": [
        {
          "output_type": "execute_result",
          "data": {
            "text/plain": [
              "                                      cleaned_transcript primary_call_reason\n",
              "0      agent:\\ncustomer: hi, yeah i'm calling because...    voluntary cancel\n",
              "1      agent:  for calling united airlines, my name i...             booking\n",
              "2      agent:  for calling united airlines customer s...              irrops\n",
              "3      agent:  for calling united airlines customer s...             upgrade\n",
              "4      agent:\\ncustomer: hi sarah, thanks for taking ...             seating\n",
              "...                                                  ...                 ...\n",
              "71805  agent:  for calling united airlines customer s...         post flight\n",
              "71806  agent:  for calling united airlines customer s...             upgrade\n",
              "71807  agent:  for calling united airlines customer s...             upgrade\n",
              "71808  agent:  for calling united airlines customer s...               other\n",
              "71809  agent:  for calling united airlines, this is s...     digital support\n",
              "\n",
              "[71810 rows x 2 columns]"
            ],
            "text/html": [
              "\n",
              "  <div id=\"df-85a13a14-729b-46e6-ba18-db84287035bf\" class=\"colab-df-container\">\n",
              "    <div>\n",
              "<style scoped>\n",
              "    .dataframe tbody tr th:only-of-type {\n",
              "        vertical-align: middle;\n",
              "    }\n",
              "\n",
              "    .dataframe tbody tr th {\n",
              "        vertical-align: top;\n",
              "    }\n",
              "\n",
              "    .dataframe thead th {\n",
              "        text-align: right;\n",
              "    }\n",
              "</style>\n",
              "<table border=\"1\" class=\"dataframe\">\n",
              "  <thead>\n",
              "    <tr style=\"text-align: right;\">\n",
              "      <th></th>\n",
              "      <th>cleaned_transcript</th>\n",
              "      <th>primary_call_reason</th>\n",
              "    </tr>\n",
              "  </thead>\n",
              "  <tbody>\n",
              "    <tr>\n",
              "      <th>0</th>\n",
              "      <td>agent:\\ncustomer: hi, yeah i'm calling because...</td>\n",
              "      <td>voluntary cancel</td>\n",
              "    </tr>\n",
              "    <tr>\n",
              "      <th>1</th>\n",
              "      <td>agent:  for calling united airlines, my name i...</td>\n",
              "      <td>booking</td>\n",
              "    </tr>\n",
              "    <tr>\n",
              "      <th>2</th>\n",
              "      <td>agent:  for calling united airlines customer s...</td>\n",
              "      <td>irrops</td>\n",
              "    </tr>\n",
              "    <tr>\n",
              "      <th>3</th>\n",
              "      <td>agent:  for calling united airlines customer s...</td>\n",
              "      <td>upgrade</td>\n",
              "    </tr>\n",
              "    <tr>\n",
              "      <th>4</th>\n",
              "      <td>agent:\\ncustomer: hi sarah, thanks for taking ...</td>\n",
              "      <td>seating</td>\n",
              "    </tr>\n",
              "    <tr>\n",
              "      <th>...</th>\n",
              "      <td>...</td>\n",
              "      <td>...</td>\n",
              "    </tr>\n",
              "    <tr>\n",
              "      <th>71805</th>\n",
              "      <td>agent:  for calling united airlines customer s...</td>\n",
              "      <td>post flight</td>\n",
              "    </tr>\n",
              "    <tr>\n",
              "      <th>71806</th>\n",
              "      <td>agent:  for calling united airlines customer s...</td>\n",
              "      <td>upgrade</td>\n",
              "    </tr>\n",
              "    <tr>\n",
              "      <th>71807</th>\n",
              "      <td>agent:  for calling united airlines customer s...</td>\n",
              "      <td>upgrade</td>\n",
              "    </tr>\n",
              "    <tr>\n",
              "      <th>71808</th>\n",
              "      <td>agent:  for calling united airlines customer s...</td>\n",
              "      <td>other</td>\n",
              "    </tr>\n",
              "    <tr>\n",
              "      <th>71809</th>\n",
              "      <td>agent:  for calling united airlines, this is s...</td>\n",
              "      <td>digital support</td>\n",
              "    </tr>\n",
              "  </tbody>\n",
              "</table>\n",
              "<p>71810 rows × 2 columns</p>\n",
              "</div>\n",
              "    <div class=\"colab-df-buttons\">\n",
              "\n",
              "  <div class=\"colab-df-container\">\n",
              "    <button class=\"colab-df-convert\" onclick=\"convertToInteractive('df-85a13a14-729b-46e6-ba18-db84287035bf')\"\n",
              "            title=\"Convert this dataframe to an interactive table.\"\n",
              "            style=\"display:none;\">\n",
              "\n",
              "  <svg xmlns=\"http://www.w3.org/2000/svg\" height=\"24px\" viewBox=\"0 -960 960 960\">\n",
              "    <path d=\"M120-120v-720h720v720H120Zm60-500h600v-160H180v160Zm220 220h160v-160H400v160Zm0 220h160v-160H400v160ZM180-400h160v-160H180v160Zm440 0h160v-160H620v160ZM180-180h160v-160H180v160Zm440 0h160v-160H620v160Z\"/>\n",
              "  </svg>\n",
              "    </button>\n",
              "\n",
              "  <style>\n",
              "    .colab-df-container {\n",
              "      display:flex;\n",
              "      gap: 12px;\n",
              "    }\n",
              "\n",
              "    .colab-df-convert {\n",
              "      background-color: #E8F0FE;\n",
              "      border: none;\n",
              "      border-radius: 50%;\n",
              "      cursor: pointer;\n",
              "      display: none;\n",
              "      fill: #1967D2;\n",
              "      height: 32px;\n",
              "      padding: 0 0 0 0;\n",
              "      width: 32px;\n",
              "    }\n",
              "\n",
              "    .colab-df-convert:hover {\n",
              "      background-color: #E2EBFA;\n",
              "      box-shadow: 0px 1px 2px rgba(60, 64, 67, 0.3), 0px 1px 3px 1px rgba(60, 64, 67, 0.15);\n",
              "      fill: #174EA6;\n",
              "    }\n",
              "\n",
              "    .colab-df-buttons div {\n",
              "      margin-bottom: 4px;\n",
              "    }\n",
              "\n",
              "    [theme=dark] .colab-df-convert {\n",
              "      background-color: #3B4455;\n",
              "      fill: #D2E3FC;\n",
              "    }\n",
              "\n",
              "    [theme=dark] .colab-df-convert:hover {\n",
              "      background-color: #434B5C;\n",
              "      box-shadow: 0px 1px 3px 1px rgba(0, 0, 0, 0.15);\n",
              "      filter: drop-shadow(0px 1px 2px rgba(0, 0, 0, 0.3));\n",
              "      fill: #FFFFFF;\n",
              "    }\n",
              "  </style>\n",
              "\n",
              "    <script>\n",
              "      const buttonEl =\n",
              "        document.querySelector('#df-85a13a14-729b-46e6-ba18-db84287035bf button.colab-df-convert');\n",
              "      buttonEl.style.display =\n",
              "        google.colab.kernel.accessAllowed ? 'block' : 'none';\n",
              "\n",
              "      async function convertToInteractive(key) {\n",
              "        const element = document.querySelector('#df-85a13a14-729b-46e6-ba18-db84287035bf');\n",
              "        const dataTable =\n",
              "          await google.colab.kernel.invokeFunction('convertToInteractive',\n",
              "                                                    [key], {});\n",
              "        if (!dataTable) return;\n",
              "\n",
              "        const docLinkHtml = 'Like what you see? Visit the ' +\n",
              "          '<a target=\"_blank\" href=https://colab.research.google.com/notebooks/data_table.ipynb>data table notebook</a>'\n",
              "          + ' to learn more about interactive tables.';\n",
              "        element.innerHTML = '';\n",
              "        dataTable['output_type'] = 'display_data';\n",
              "        await google.colab.output.renderOutput(dataTable, element);\n",
              "        const docLink = document.createElement('div');\n",
              "        docLink.innerHTML = docLinkHtml;\n",
              "        element.appendChild(docLink);\n",
              "      }\n",
              "    </script>\n",
              "  </div>\n",
              "\n",
              "\n",
              "<div id=\"df-451e6a2c-9fcd-43c8-9864-d193b4826749\">\n",
              "  <button class=\"colab-df-quickchart\" onclick=\"quickchart('df-451e6a2c-9fcd-43c8-9864-d193b4826749')\"\n",
              "            title=\"Suggest charts\"\n",
              "            style=\"display:none;\">\n",
              "\n",
              "<svg xmlns=\"http://www.w3.org/2000/svg\" height=\"24px\"viewBox=\"0 0 24 24\"\n",
              "     width=\"24px\">\n",
              "    <g>\n",
              "        <path d=\"M19 3H5c-1.1 0-2 .9-2 2v14c0 1.1.9 2 2 2h14c1.1 0 2-.9 2-2V5c0-1.1-.9-2-2-2zM9 17H7v-7h2v7zm4 0h-2V7h2v10zm4 0h-2v-4h2v4z\"/>\n",
              "    </g>\n",
              "</svg>\n",
              "  </button>\n",
              "\n",
              "<style>\n",
              "  .colab-df-quickchart {\n",
              "      --bg-color: #E8F0FE;\n",
              "      --fill-color: #1967D2;\n",
              "      --hover-bg-color: #E2EBFA;\n",
              "      --hover-fill-color: #174EA6;\n",
              "      --disabled-fill-color: #AAA;\n",
              "      --disabled-bg-color: #DDD;\n",
              "  }\n",
              "\n",
              "  [theme=dark] .colab-df-quickchart {\n",
              "      --bg-color: #3B4455;\n",
              "      --fill-color: #D2E3FC;\n",
              "      --hover-bg-color: #434B5C;\n",
              "      --hover-fill-color: #FFFFFF;\n",
              "      --disabled-bg-color: #3B4455;\n",
              "      --disabled-fill-color: #666;\n",
              "  }\n",
              "\n",
              "  .colab-df-quickchart {\n",
              "    background-color: var(--bg-color);\n",
              "    border: none;\n",
              "    border-radius: 50%;\n",
              "    cursor: pointer;\n",
              "    display: none;\n",
              "    fill: var(--fill-color);\n",
              "    height: 32px;\n",
              "    padding: 0;\n",
              "    width: 32px;\n",
              "  }\n",
              "\n",
              "  .colab-df-quickchart:hover {\n",
              "    background-color: var(--hover-bg-color);\n",
              "    box-shadow: 0 1px 2px rgba(60, 64, 67, 0.3), 0 1px 3px 1px rgba(60, 64, 67, 0.15);\n",
              "    fill: var(--button-hover-fill-color);\n",
              "  }\n",
              "\n",
              "  .colab-df-quickchart-complete:disabled,\n",
              "  .colab-df-quickchart-complete:disabled:hover {\n",
              "    background-color: var(--disabled-bg-color);\n",
              "    fill: var(--disabled-fill-color);\n",
              "    box-shadow: none;\n",
              "  }\n",
              "\n",
              "  .colab-df-spinner {\n",
              "    border: 2px solid var(--fill-color);\n",
              "    border-color: transparent;\n",
              "    border-bottom-color: var(--fill-color);\n",
              "    animation:\n",
              "      spin 1s steps(1) infinite;\n",
              "  }\n",
              "\n",
              "  @keyframes spin {\n",
              "    0% {\n",
              "      border-color: transparent;\n",
              "      border-bottom-color: var(--fill-color);\n",
              "      border-left-color: var(--fill-color);\n",
              "    }\n",
              "    20% {\n",
              "      border-color: transparent;\n",
              "      border-left-color: var(--fill-color);\n",
              "      border-top-color: var(--fill-color);\n",
              "    }\n",
              "    30% {\n",
              "      border-color: transparent;\n",
              "      border-left-color: var(--fill-color);\n",
              "      border-top-color: var(--fill-color);\n",
              "      border-right-color: var(--fill-color);\n",
              "    }\n",
              "    40% {\n",
              "      border-color: transparent;\n",
              "      border-right-color: var(--fill-color);\n",
              "      border-top-color: var(--fill-color);\n",
              "    }\n",
              "    60% {\n",
              "      border-color: transparent;\n",
              "      border-right-color: var(--fill-color);\n",
              "    }\n",
              "    80% {\n",
              "      border-color: transparent;\n",
              "      border-right-color: var(--fill-color);\n",
              "      border-bottom-color: var(--fill-color);\n",
              "    }\n",
              "    90% {\n",
              "      border-color: transparent;\n",
              "      border-bottom-color: var(--fill-color);\n",
              "    }\n",
              "  }\n",
              "</style>\n",
              "\n",
              "  <script>\n",
              "    async function quickchart(key) {\n",
              "      const quickchartButtonEl =\n",
              "        document.querySelector('#' + key + ' button');\n",
              "      quickchartButtonEl.disabled = true;  // To prevent multiple clicks.\n",
              "      quickchartButtonEl.classList.add('colab-df-spinner');\n",
              "      try {\n",
              "        const charts = await google.colab.kernel.invokeFunction(\n",
              "            'suggestCharts', [key], {});\n",
              "      } catch (error) {\n",
              "        console.error('Error during call to suggestCharts:', error);\n",
              "      }\n",
              "      quickchartButtonEl.classList.remove('colab-df-spinner');\n",
              "      quickchartButtonEl.classList.add('colab-df-quickchart-complete');\n",
              "    }\n",
              "    (() => {\n",
              "      let quickchartButtonEl =\n",
              "        document.querySelector('#df-451e6a2c-9fcd-43c8-9864-d193b4826749 button');\n",
              "      quickchartButtonEl.style.display =\n",
              "        google.colab.kernel.accessAllowed ? 'block' : 'none';\n",
              "    })();\n",
              "  </script>\n",
              "</div>\n",
              "\n",
              "  <div id=\"id_b3fdc1b4-e028-4ecb-a370-99c8a4082d37\">\n",
              "    <style>\n",
              "      .colab-df-generate {\n",
              "        background-color: #E8F0FE;\n",
              "        border: none;\n",
              "        border-radius: 50%;\n",
              "        cursor: pointer;\n",
              "        display: none;\n",
              "        fill: #1967D2;\n",
              "        height: 32px;\n",
              "        padding: 0 0 0 0;\n",
              "        width: 32px;\n",
              "      }\n",
              "\n",
              "      .colab-df-generate:hover {\n",
              "        background-color: #E2EBFA;\n",
              "        box-shadow: 0px 1px 2px rgba(60, 64, 67, 0.3), 0px 1px 3px 1px rgba(60, 64, 67, 0.15);\n",
              "        fill: #174EA6;\n",
              "      }\n",
              "\n",
              "      [theme=dark] .colab-df-generate {\n",
              "        background-color: #3B4455;\n",
              "        fill: #D2E3FC;\n",
              "      }\n",
              "\n",
              "      [theme=dark] .colab-df-generate:hover {\n",
              "        background-color: #434B5C;\n",
              "        box-shadow: 0px 1px 3px 1px rgba(0, 0, 0, 0.15);\n",
              "        filter: drop-shadow(0px 1px 2px rgba(0, 0, 0, 0.3));\n",
              "        fill: #FFFFFF;\n",
              "      }\n",
              "    </style>\n",
              "    <button class=\"colab-df-generate\" onclick=\"generateWithVariable('df')\"\n",
              "            title=\"Generate code using this dataframe.\"\n",
              "            style=\"display:none;\">\n",
              "\n",
              "  <svg xmlns=\"http://www.w3.org/2000/svg\" height=\"24px\"viewBox=\"0 0 24 24\"\n",
              "       width=\"24px\">\n",
              "    <path d=\"M7,19H8.4L18.45,9,17,7.55,7,17.6ZM5,21V16.75L18.45,3.32a2,2,0,0,1,2.83,0l1.4,1.43a1.91,1.91,0,0,1,.58,1.4,1.91,1.91,0,0,1-.58,1.4L9.25,21ZM18.45,9,17,7.55Zm-12,3A5.31,5.31,0,0,0,4.9,8.1,5.31,5.31,0,0,0,1,6.5,5.31,5.31,0,0,0,4.9,4.9,5.31,5.31,0,0,0,6.5,1,5.31,5.31,0,0,0,8.1,4.9,5.31,5.31,0,0,0,12,6.5,5.46,5.46,0,0,0,6.5,12Z\"/>\n",
              "  </svg>\n",
              "    </button>\n",
              "    <script>\n",
              "      (() => {\n",
              "      const buttonEl =\n",
              "        document.querySelector('#id_b3fdc1b4-e028-4ecb-a370-99c8a4082d37 button.colab-df-generate');\n",
              "      buttonEl.style.display =\n",
              "        google.colab.kernel.accessAllowed ? 'block' : 'none';\n",
              "\n",
              "      buttonEl.onclick = () => {\n",
              "        google.colab.notebook.generateWithVariable('df');\n",
              "      }\n",
              "      })();\n",
              "    </script>\n",
              "  </div>\n",
              "\n",
              "    </div>\n",
              "  </div>\n"
            ],
            "application/vnd.google.colaboratory.intrinsic+json": {
              "type": "dataframe",
              "variable_name": "df",
              "summary": "{\n  \"name\": \"df\",\n  \"rows\": 71810,\n  \"fields\": [\n    {\n      \"column\": \"cleaned_transcript\",\n      \"properties\": {\n        \"dtype\": \"string\",\n        \"num_unique_values\": 71810,\n        \"samples\": [\n          \"agent:  for calling united airlines customer service, this is mark speaking. how may i help you today?\\ncustomer: hi mark, yeah uh i'm calling about a flight i have scheduled next week. the flight number is ua1542 from chicago to san francisco.\\nagent: okay, let me pull that flight up.  alright, i've got the flight details here. what seems to be the issue you're calling about?\\ncustomer: well uh, i'm actually gonna have to cancel that flight. something came up and i won't be able to make the trip after all. so i was hoping to get a refund or maybe change it to a different date.\\nagent: , things come up. let me take a look at the refund policy for that route.  unfortunately because it's within a week of departure, the ticket is non-refundable. however, we can change the dates for you for a $150 change fee, as long as the new travel is within the next year. would you like me to go ahead and change the dates for you?\\ncustomer:  yeah let me think for a second.  what if i changed it to like next month instead of within a year? would the fee still be $150 then?\\nagent: let me double check the fee for changing it to next month specifically.  it looks like the fee would actually be waived if you changed it to within the next 30 days. so if there's a flight next month that works better for you, i can go ahead and change it at no additional cost. do you have any dates in mind?\\ncustomer: okay great, thanks. let me pull up my calendar real quick...  yeah is there anything available for like the first or second week of november? i'd like to go out there for a work thing if possible.\\nagent: no problem, take your time looking.  alright, for the first week of november i'm seeing availability on november 3rd, leaving chicago at 11am and getting into san francisco at 1pm. how does that date work for you?\\ncustomer:  that date could work, let me double check with my coworkers real quick to make sure the timing will line up with our meetings out there...  yeah that november 3rd flight looks good to me, i'll go ahead and change it to that.\\nagent: great, i've gone ahead and processed the change for you. you should see the updated itinerary in your united account within the next 24 hours. thanks for being so flexible on the dates - i'm happy we could get you rescheduled without any change fees. please let me know if any other issues come up before your new travel date.\\ncustomer: okay awesome,  so much for your help mark i really  you changing that for me. have a good rest of your day!\\nagent: you're very welcome, glad i could assist. enjoy your trip to san francisco! you have a good day as well.\\ncustomer: thanks, you too! goodbye.\\nagent: goodbye!\",\n          \"agent:  for calling united airlines, my name is sarah, how may i help you today?\\ncustomer: hi sarah,  i'm calling about a flight i had booked from chicago to boston last week. it got delayed by a couple hours and i missed my connecting flight.\\nagent: i'm  to hear about that delay, what are the dates of your travels so i can take a look at your reservation?\\ncustomer: it was last thursday, may 12th. flight number was ua1402, it was supposed to leave chicago at 2pm but ended up leaving around 4pm.\\nagent: okay, let me pull up your reservation.  yep, i see here your flight from chicago to boston was delayed due to bad weather in chicago that day. the flight ended up departing at 4:17pm instead of the scheduled 2pm time.  that must have caused you to miss your connecting flight to your final destination. one moment while i take a look at our policies in this situation.  so based on the delay being due to weather, which is considered a controllable delay by united, you would be eligible for a one-time goodwill gesture from us due to the missed connection. i can offer to refund your ticket for that flight, or apply the amount as a travel credit to use for a future booking. which option would you prefer?\\ncustomer:  that's really nice of you guys to offer one of those options as a goodwill gesture. i think i'll go with the travel credit if that's ok, i'm sure to fly united  at some point in the next year. it'll be nice to have that credit available.\\nagent: absolutely, i've gone ahead and processed a full travel credit for the value of your may 12th ticket. the credit will be valid for one year from today and can be used for future united flights. the reference number for that is cr348921. please keep that on hand in case you need it when booking your next trip. i'm glad we could resolve this situation to your satisfaction.  for understanding about the weather delay causing your missed connection. is there anything else i can help with today?\\ncustomer: no, i think that covers it. thanks so much for your help, sarah. i  you taking the time to look into this and provide that travel credit. it will definitely be used.\\nagent: you're very welcome, have a great rest of your day!\\ncustomer: you too, thanks  and bye!\\nagent: goodbye!\",\n          \"agent:  for calling united airlines, this is steve how can i help you today?\\ncustomer: hi steve, yeah i'm calling because i have a flight booked from chicago to new york next week and i was hoping to change it.  this work thing has come up last minute and i need to fly out a day earlier.\\nagent: , last minute changes can be frustrating. let me take a look at your booking and see what i can do for you. what's the name the reservation is under?\\ncustomer: it's under john smith. the original flight was supposed to leave next thursday.\\nagent: okay, let me pull that up...  alright, i've got your reservation here mr. smith. it looks like the flight you booked is pretty full for the day before. let me check some alternate flight options...  , the only option i see is a late afternoon flight that leaves at 4pm, would that work for your schedule?\\ncustomer: ugh yeah i think that could work, but is it going to cost me a lot more to change it last minute like this? money is a bit tight with everything going on.\\nagent:  the financial concerns. unfortunately because it is within 7 days of travel, there would be a change fee applied. the good news is because this flight is still fairly full, the fare difference is only an additional $100 on top of the standard $200 change fee. so your new total would be $300 to switch to that earlier flight. does that work for your budget?\\ncustomer:  yeah i guess $300 is better than having to reschedule the whole work thing. alright, go ahead and change it for me then.\\nagent: no problem, i'm happy i could find an option that works. let me go ahead and process that change for you...  okay, all set! you're now booked on the 4pm flight next wednesday. you'll receive an email confirmation shortly. do you need anything else from me today?\\ncustomer: no, i think that covers it. thanks so much for your help, steve. i really  you finding a solution on short notice.\\nagent: you're very welcome, mr. smith. happy i could assist with the change. safe travels and enjoy your trip to new york. have a great rest of your day!\\ncustomer: you too, thanks !\\nagent:  next!   for calling united airlines, this is steve how can i help you today?\"\n        ],\n        \"semantic_type\": \"\",\n        \"description\": \"\"\n      }\n    },\n    {\n      \"column\": \"primary_call_reason\",\n      \"properties\": {\n        \"dtype\": \"category\",\n        \"num_unique_values\": 21,\n        \"samples\": [\n          \"voluntary cancel\",\n          \"unaccompanied minor\",\n          \"digital support\"\n        ],\n        \"semantic_type\": \"\",\n        \"description\": \"\"\n      }\n    }\n  ]\n}"
            }
          },
          "metadata": {},
          "execution_count": 4
        }
      ]
    },
    {
      "cell_type": "code",
      "source": [],
      "metadata": {
        "id": "4mR5PsJzm8HG"
      },
      "execution_count": 7,
      "outputs": []
    },
    {
      "cell_type": "code",
      "source": [
        "\n",
        "# Drop rows with null values in the dataframe.\n",
        "df.dropna(inplace=True)\n"
      ],
      "metadata": {
        "id": "v376a3FpXCkg"
      },
      "execution_count": 5,
      "outputs": []
    },
    {
      "cell_type": "code",
      "metadata": {
        "trusted": true,
        "id": "hF6Z601vgUIx"
      },
      "source": [
        "\n",
        "df = df[df.primary_call_reason != 'other']\n"
      ],
      "execution_count": 6,
      "outputs": []
    },
    {
      "cell_type": "code",
      "source": [
        "df"
      ],
      "metadata": {
        "colab": {
          "base_uri": "https://localhost:8080/",
          "height": 424
        },
        "id": "5dP-E5Q5XcS_",
        "outputId": "606a0bd9-3c90-49e8-8afe-70ca5661b58f"
      },
      "execution_count": 9,
      "outputs": [
        {
          "output_type": "execute_result",
          "data": {
            "text/plain": [
              "                                      cleaned_transcript primary_call_reason\n",
              "0      agent:\\ncustomer: hi, yeah i'm calling because...    voluntary cancel\n",
              "1      agent:  for calling united airlines, my name i...             booking\n",
              "2      agent:  for calling united airlines customer s...              irrops\n",
              "3      agent:  for calling united airlines customer s...             upgrade\n",
              "4      agent:\\ncustomer: hi sarah, thanks for taking ...             seating\n",
              "...                                                  ...                 ...\n",
              "71804  agent:  for calling united airlines customer s...        mileage plus\n",
              "71805  agent:  for calling united airlines customer s...         post flight\n",
              "71806  agent:  for calling united airlines customer s...             upgrade\n",
              "71807  agent:  for calling united airlines customer s...             upgrade\n",
              "71809  agent:  for calling united airlines, this is s...     digital support\n",
              "\n",
              "[66653 rows x 2 columns]"
            ],
            "text/html": [
              "\n",
              "  <div id=\"df-a9eda8c3-00dd-4fe2-8471-da9767be9535\" class=\"colab-df-container\">\n",
              "    <div>\n",
              "<style scoped>\n",
              "    .dataframe tbody tr th:only-of-type {\n",
              "        vertical-align: middle;\n",
              "    }\n",
              "\n",
              "    .dataframe tbody tr th {\n",
              "        vertical-align: top;\n",
              "    }\n",
              "\n",
              "    .dataframe thead th {\n",
              "        text-align: right;\n",
              "    }\n",
              "</style>\n",
              "<table border=\"1\" class=\"dataframe\">\n",
              "  <thead>\n",
              "    <tr style=\"text-align: right;\">\n",
              "      <th></th>\n",
              "      <th>cleaned_transcript</th>\n",
              "      <th>primary_call_reason</th>\n",
              "    </tr>\n",
              "  </thead>\n",
              "  <tbody>\n",
              "    <tr>\n",
              "      <th>0</th>\n",
              "      <td>agent:\\ncustomer: hi, yeah i'm calling because...</td>\n",
              "      <td>voluntary cancel</td>\n",
              "    </tr>\n",
              "    <tr>\n",
              "      <th>1</th>\n",
              "      <td>agent:  for calling united airlines, my name i...</td>\n",
              "      <td>booking</td>\n",
              "    </tr>\n",
              "    <tr>\n",
              "      <th>2</th>\n",
              "      <td>agent:  for calling united airlines customer s...</td>\n",
              "      <td>irrops</td>\n",
              "    </tr>\n",
              "    <tr>\n",
              "      <th>3</th>\n",
              "      <td>agent:  for calling united airlines customer s...</td>\n",
              "      <td>upgrade</td>\n",
              "    </tr>\n",
              "    <tr>\n",
              "      <th>4</th>\n",
              "      <td>agent:\\ncustomer: hi sarah, thanks for taking ...</td>\n",
              "      <td>seating</td>\n",
              "    </tr>\n",
              "    <tr>\n",
              "      <th>...</th>\n",
              "      <td>...</td>\n",
              "      <td>...</td>\n",
              "    </tr>\n",
              "    <tr>\n",
              "      <th>71804</th>\n",
              "      <td>agent:  for calling united airlines customer s...</td>\n",
              "      <td>mileage plus</td>\n",
              "    </tr>\n",
              "    <tr>\n",
              "      <th>71805</th>\n",
              "      <td>agent:  for calling united airlines customer s...</td>\n",
              "      <td>post flight</td>\n",
              "    </tr>\n",
              "    <tr>\n",
              "      <th>71806</th>\n",
              "      <td>agent:  for calling united airlines customer s...</td>\n",
              "      <td>upgrade</td>\n",
              "    </tr>\n",
              "    <tr>\n",
              "      <th>71807</th>\n",
              "      <td>agent:  for calling united airlines customer s...</td>\n",
              "      <td>upgrade</td>\n",
              "    </tr>\n",
              "    <tr>\n",
              "      <th>71809</th>\n",
              "      <td>agent:  for calling united airlines, this is s...</td>\n",
              "      <td>digital support</td>\n",
              "    </tr>\n",
              "  </tbody>\n",
              "</table>\n",
              "<p>66653 rows × 2 columns</p>\n",
              "</div>\n",
              "    <div class=\"colab-df-buttons\">\n",
              "\n",
              "  <div class=\"colab-df-container\">\n",
              "    <button class=\"colab-df-convert\" onclick=\"convertToInteractive('df-a9eda8c3-00dd-4fe2-8471-da9767be9535')\"\n",
              "            title=\"Convert this dataframe to an interactive table.\"\n",
              "            style=\"display:none;\">\n",
              "\n",
              "  <svg xmlns=\"http://www.w3.org/2000/svg\" height=\"24px\" viewBox=\"0 -960 960 960\">\n",
              "    <path d=\"M120-120v-720h720v720H120Zm60-500h600v-160H180v160Zm220 220h160v-160H400v160Zm0 220h160v-160H400v160ZM180-400h160v-160H180v160Zm440 0h160v-160H620v160ZM180-180h160v-160H180v160Zm440 0h160v-160H620v160Z\"/>\n",
              "  </svg>\n",
              "    </button>\n",
              "\n",
              "  <style>\n",
              "    .colab-df-container {\n",
              "      display:flex;\n",
              "      gap: 12px;\n",
              "    }\n",
              "\n",
              "    .colab-df-convert {\n",
              "      background-color: #E8F0FE;\n",
              "      border: none;\n",
              "      border-radius: 50%;\n",
              "      cursor: pointer;\n",
              "      display: none;\n",
              "      fill: #1967D2;\n",
              "      height: 32px;\n",
              "      padding: 0 0 0 0;\n",
              "      width: 32px;\n",
              "    }\n",
              "\n",
              "    .colab-df-convert:hover {\n",
              "      background-color: #E2EBFA;\n",
              "      box-shadow: 0px 1px 2px rgba(60, 64, 67, 0.3), 0px 1px 3px 1px rgba(60, 64, 67, 0.15);\n",
              "      fill: #174EA6;\n",
              "    }\n",
              "\n",
              "    .colab-df-buttons div {\n",
              "      margin-bottom: 4px;\n",
              "    }\n",
              "\n",
              "    [theme=dark] .colab-df-convert {\n",
              "      background-color: #3B4455;\n",
              "      fill: #D2E3FC;\n",
              "    }\n",
              "\n",
              "    [theme=dark] .colab-df-convert:hover {\n",
              "      background-color: #434B5C;\n",
              "      box-shadow: 0px 1px 3px 1px rgba(0, 0, 0, 0.15);\n",
              "      filter: drop-shadow(0px 1px 2px rgba(0, 0, 0, 0.3));\n",
              "      fill: #FFFFFF;\n",
              "    }\n",
              "  </style>\n",
              "\n",
              "    <script>\n",
              "      const buttonEl =\n",
              "        document.querySelector('#df-a9eda8c3-00dd-4fe2-8471-da9767be9535 button.colab-df-convert');\n",
              "      buttonEl.style.display =\n",
              "        google.colab.kernel.accessAllowed ? 'block' : 'none';\n",
              "\n",
              "      async function convertToInteractive(key) {\n",
              "        const element = document.querySelector('#df-a9eda8c3-00dd-4fe2-8471-da9767be9535');\n",
              "        const dataTable =\n",
              "          await google.colab.kernel.invokeFunction('convertToInteractive',\n",
              "                                                    [key], {});\n",
              "        if (!dataTable) return;\n",
              "\n",
              "        const docLinkHtml = 'Like what you see? Visit the ' +\n",
              "          '<a target=\"_blank\" href=https://colab.research.google.com/notebooks/data_table.ipynb>data table notebook</a>'\n",
              "          + ' to learn more about interactive tables.';\n",
              "        element.innerHTML = '';\n",
              "        dataTable['output_type'] = 'display_data';\n",
              "        await google.colab.output.renderOutput(dataTable, element);\n",
              "        const docLink = document.createElement('div');\n",
              "        docLink.innerHTML = docLinkHtml;\n",
              "        element.appendChild(docLink);\n",
              "      }\n",
              "    </script>\n",
              "  </div>\n",
              "\n",
              "\n",
              "<div id=\"df-f9a0b220-ef92-4e92-bdf0-2f68ca8348d2\">\n",
              "  <button class=\"colab-df-quickchart\" onclick=\"quickchart('df-f9a0b220-ef92-4e92-bdf0-2f68ca8348d2')\"\n",
              "            title=\"Suggest charts\"\n",
              "            style=\"display:none;\">\n",
              "\n",
              "<svg xmlns=\"http://www.w3.org/2000/svg\" height=\"24px\"viewBox=\"0 0 24 24\"\n",
              "     width=\"24px\">\n",
              "    <g>\n",
              "        <path d=\"M19 3H5c-1.1 0-2 .9-2 2v14c0 1.1.9 2 2 2h14c1.1 0 2-.9 2-2V5c0-1.1-.9-2-2-2zM9 17H7v-7h2v7zm4 0h-2V7h2v10zm4 0h-2v-4h2v4z\"/>\n",
              "    </g>\n",
              "</svg>\n",
              "  </button>\n",
              "\n",
              "<style>\n",
              "  .colab-df-quickchart {\n",
              "      --bg-color: #E8F0FE;\n",
              "      --fill-color: #1967D2;\n",
              "      --hover-bg-color: #E2EBFA;\n",
              "      --hover-fill-color: #174EA6;\n",
              "      --disabled-fill-color: #AAA;\n",
              "      --disabled-bg-color: #DDD;\n",
              "  }\n",
              "\n",
              "  [theme=dark] .colab-df-quickchart {\n",
              "      --bg-color: #3B4455;\n",
              "      --fill-color: #D2E3FC;\n",
              "      --hover-bg-color: #434B5C;\n",
              "      --hover-fill-color: #FFFFFF;\n",
              "      --disabled-bg-color: #3B4455;\n",
              "      --disabled-fill-color: #666;\n",
              "  }\n",
              "\n",
              "  .colab-df-quickchart {\n",
              "    background-color: var(--bg-color);\n",
              "    border: none;\n",
              "    border-radius: 50%;\n",
              "    cursor: pointer;\n",
              "    display: none;\n",
              "    fill: var(--fill-color);\n",
              "    height: 32px;\n",
              "    padding: 0;\n",
              "    width: 32px;\n",
              "  }\n",
              "\n",
              "  .colab-df-quickchart:hover {\n",
              "    background-color: var(--hover-bg-color);\n",
              "    box-shadow: 0 1px 2px rgba(60, 64, 67, 0.3), 0 1px 3px 1px rgba(60, 64, 67, 0.15);\n",
              "    fill: var(--button-hover-fill-color);\n",
              "  }\n",
              "\n",
              "  .colab-df-quickchart-complete:disabled,\n",
              "  .colab-df-quickchart-complete:disabled:hover {\n",
              "    background-color: var(--disabled-bg-color);\n",
              "    fill: var(--disabled-fill-color);\n",
              "    box-shadow: none;\n",
              "  }\n",
              "\n",
              "  .colab-df-spinner {\n",
              "    border: 2px solid var(--fill-color);\n",
              "    border-color: transparent;\n",
              "    border-bottom-color: var(--fill-color);\n",
              "    animation:\n",
              "      spin 1s steps(1) infinite;\n",
              "  }\n",
              "\n",
              "  @keyframes spin {\n",
              "    0% {\n",
              "      border-color: transparent;\n",
              "      border-bottom-color: var(--fill-color);\n",
              "      border-left-color: var(--fill-color);\n",
              "    }\n",
              "    20% {\n",
              "      border-color: transparent;\n",
              "      border-left-color: var(--fill-color);\n",
              "      border-top-color: var(--fill-color);\n",
              "    }\n",
              "    30% {\n",
              "      border-color: transparent;\n",
              "      border-left-color: var(--fill-color);\n",
              "      border-top-color: var(--fill-color);\n",
              "      border-right-color: var(--fill-color);\n",
              "    }\n",
              "    40% {\n",
              "      border-color: transparent;\n",
              "      border-right-color: var(--fill-color);\n",
              "      border-top-color: var(--fill-color);\n",
              "    }\n",
              "    60% {\n",
              "      border-color: transparent;\n",
              "      border-right-color: var(--fill-color);\n",
              "    }\n",
              "    80% {\n",
              "      border-color: transparent;\n",
              "      border-right-color: var(--fill-color);\n",
              "      border-bottom-color: var(--fill-color);\n",
              "    }\n",
              "    90% {\n",
              "      border-color: transparent;\n",
              "      border-bottom-color: var(--fill-color);\n",
              "    }\n",
              "  }\n",
              "</style>\n",
              "\n",
              "  <script>\n",
              "    async function quickchart(key) {\n",
              "      const quickchartButtonEl =\n",
              "        document.querySelector('#' + key + ' button');\n",
              "      quickchartButtonEl.disabled = true;  // To prevent multiple clicks.\n",
              "      quickchartButtonEl.classList.add('colab-df-spinner');\n",
              "      try {\n",
              "        const charts = await google.colab.kernel.invokeFunction(\n",
              "            'suggestCharts', [key], {});\n",
              "      } catch (error) {\n",
              "        console.error('Error during call to suggestCharts:', error);\n",
              "      }\n",
              "      quickchartButtonEl.classList.remove('colab-df-spinner');\n",
              "      quickchartButtonEl.classList.add('colab-df-quickchart-complete');\n",
              "    }\n",
              "    (() => {\n",
              "      let quickchartButtonEl =\n",
              "        document.querySelector('#df-f9a0b220-ef92-4e92-bdf0-2f68ca8348d2 button');\n",
              "      quickchartButtonEl.style.display =\n",
              "        google.colab.kernel.accessAllowed ? 'block' : 'none';\n",
              "    })();\n",
              "  </script>\n",
              "</div>\n",
              "\n",
              "  <div id=\"id_42ba72ee-1c75-49f2-9de2-7463b8091f7c\">\n",
              "    <style>\n",
              "      .colab-df-generate {\n",
              "        background-color: #E8F0FE;\n",
              "        border: none;\n",
              "        border-radius: 50%;\n",
              "        cursor: pointer;\n",
              "        display: none;\n",
              "        fill: #1967D2;\n",
              "        height: 32px;\n",
              "        padding: 0 0 0 0;\n",
              "        width: 32px;\n",
              "      }\n",
              "\n",
              "      .colab-df-generate:hover {\n",
              "        background-color: #E2EBFA;\n",
              "        box-shadow: 0px 1px 2px rgba(60, 64, 67, 0.3), 0px 1px 3px 1px rgba(60, 64, 67, 0.15);\n",
              "        fill: #174EA6;\n",
              "      }\n",
              "\n",
              "      [theme=dark] .colab-df-generate {\n",
              "        background-color: #3B4455;\n",
              "        fill: #D2E3FC;\n",
              "      }\n",
              "\n",
              "      [theme=dark] .colab-df-generate:hover {\n",
              "        background-color: #434B5C;\n",
              "        box-shadow: 0px 1px 3px 1px rgba(0, 0, 0, 0.15);\n",
              "        filter: drop-shadow(0px 1px 2px rgba(0, 0, 0, 0.3));\n",
              "        fill: #FFFFFF;\n",
              "      }\n",
              "    </style>\n",
              "    <button class=\"colab-df-generate\" onclick=\"generateWithVariable('df')\"\n",
              "            title=\"Generate code using this dataframe.\"\n",
              "            style=\"display:none;\">\n",
              "\n",
              "  <svg xmlns=\"http://www.w3.org/2000/svg\" height=\"24px\"viewBox=\"0 0 24 24\"\n",
              "       width=\"24px\">\n",
              "    <path d=\"M7,19H8.4L18.45,9,17,7.55,7,17.6ZM5,21V16.75L18.45,3.32a2,2,0,0,1,2.83,0l1.4,1.43a1.91,1.91,0,0,1,.58,1.4,1.91,1.91,0,0,1-.58,1.4L9.25,21ZM18.45,9,17,7.55Zm-12,3A5.31,5.31,0,0,0,4.9,8.1,5.31,5.31,0,0,0,1,6.5,5.31,5.31,0,0,0,4.9,4.9,5.31,5.31,0,0,0,6.5,1,5.31,5.31,0,0,0,8.1,4.9,5.31,5.31,0,0,0,12,6.5,5.46,5.46,0,0,0,6.5,12Z\"/>\n",
              "  </svg>\n",
              "    </button>\n",
              "    <script>\n",
              "      (() => {\n",
              "      const buttonEl =\n",
              "        document.querySelector('#id_42ba72ee-1c75-49f2-9de2-7463b8091f7c button.colab-df-generate');\n",
              "      buttonEl.style.display =\n",
              "        google.colab.kernel.accessAllowed ? 'block' : 'none';\n",
              "\n",
              "      buttonEl.onclick = () => {\n",
              "        google.colab.notebook.generateWithVariable('df');\n",
              "      }\n",
              "      })();\n",
              "    </script>\n",
              "  </div>\n",
              "\n",
              "    </div>\n",
              "  </div>\n"
            ],
            "application/vnd.google.colaboratory.intrinsic+json": {
              "type": "dataframe",
              "variable_name": "df",
              "summary": "{\n  \"name\": \"df\",\n  \"rows\": 66653,\n  \"fields\": [\n    {\n      \"column\": \"cleaned_transcript\",\n      \"properties\": {\n        \"dtype\": \"string\",\n        \"num_unique_values\": 66653,\n        \"samples\": [\n          \"agent:  for calling united airlines customer service, my name is david. how may i help you today?\\ncustomer: hi, yeah i'm calling because i have a huge problem with my upcoming flight. ugh, this is so frustrating!\\nagent:  your frustration . can you please provide your confirmation number so i can take a look at your reservation?\\ncustomer:  it's flight 3849 from chicago to los angeles next thursday. so basically, i booked this flight months ago for a really important work meeting. but now your stupid website is saying the flight is overbooked! what the hell am i supposed to do now?!\\nagent: i apologize for the inconvenience, overbooked flights are never ideal. let me take a look here..., it looks like you are correct, this flight is currently oversold. not the news i'm sure you wanted to hear. let me see what options i can provide to help get you to your meeting.  it looks like i can offer you a seat on a later departure that same day, at 5:30pm instead of the original 11am time. i'll waive the change fee since this is due to the oversale. or i can try to get you on another airline, but it would mean going through a different airport than planned. does either of those work for your schedule?\\ncustomer: are you kidding me? neither of those work - the meeting is at 10am so both those flights would have me missing it completely. this is unacceptable! why wasn't i contacted about this sooner? now what am i supposed to do, my whole trip is screwed!\\nagent: you're right, missing your meeting is not ideal. let me check a few other options for you.  unfortunately all the flights for that day are oversold as well. i can try putting you on standby for the original flight in hopes that someone doesn't show, but there's no guarantee. as for not contacting you sooner, oversales sometimes happen last minute as passengers cancel or change plans. i apologize for the lack of notice. the best i can offer is a full refund for your ticket since we can't get you there as booked. i'll also provide a $200 travel voucher for the inconvenience.\\ncustomer: a refund and $200 voucher isn't going to get me to my meeting! i need to be on that flight or one that same day. this is going to cost me my job if i miss this, ugh i can't believe this.\\nagent: i completely understand your frustration, missing a critical business meeting because of an airline issue is unacceptable. , let me check one other long shot option...it looks like i may be able to book you on a same-day red-eye on another carrier, flying out of a different airport about an hour away. it would involve renting a car and driving like crazy to make the flight, but you would land in la around 6am, giving you time to make your 10am meeting. i know it's not ideal, but would that work in a pinch? i can get you booked on that alternate flight right now if you want to go that route.\\ncustomer:  i guess that's my only choice at this point. yeah, go ahead and book me, i'll figure out the ride and driving. this is ridiculous. your airline better compensate me for this huge hassle.\\nagent: i completely agree, you should not have to deal with all this trouble. let me get you booked on that flight right now. i'm also going to credit $500 to your account for future travel due to the major inconvenience. please let me know if there's anything else i can do as you work to make that alternate flight. and , i sincerely apologize for the trouble. getting customers where they need to be is the most important thing.\\ncustomer:  fine, i guess $500 is better than nothing. thanks for at least getting me on another flight i suppose. this better not happen !\\nagent: you have my word we'll do everything we can to avoid an situation like this in the future.  for your patience and for being understanding - i know multiple flight changes is never ideal. please feel free to reach back out if any other issues come up. safe travels and  your meeting goes well despite the changes!\\ncustomer: yeah, thanks.\\nagent:  for your call.\",\n          \"agent:  for calling united airlines customer service, this is steve speaking. how may i help you today?\\ncustomer: hi steve, thanks for taking my call. i'm calling about a flight i have booked from chicago to london next month. , i wanted to ask about changing one of the stops on the return journey.\\nagent: no problem, i'd be happy to take a look at your booking and see what options we have for changing that stop. what would you like to change?\\ncustomer: ah right, so currently i have a stop scheduled in paris on the way back from london. but something's come up and i need to get back a day earlier. so i was wondering if there's a flight that stops in amsterdam instead that would get me back a day sooner?\\nagent: okay, let me pull up your reservation and see what flights we have.  , it looks like the only flight with availability that stops in amsterdam a day earlier leaves london at 6am. would that work with your schedule change?\\ncustomer: ah not really, 6am is just too early for me. any other options maybe with a later departure from london but still an earlier arrival back in chicago than my current paris stop flight? this is really important to me.\\nagent: no problem,  the time change is important. just one second while i take a closer look... it looks like there is a flight that stops in frankfurt that departs london at 9:30am and would still get you back to chicago a day earlier than your scheduled paris flight. would routing through frankfurt work instead of amsterdam?\\ncustomer: frankfurt could work, yeah. what would be the cost to change it to that flight? i'm hoping it won't be too much more since this change is kind of last minute.\\nagent: let me check the fare difference... okay, because this is a routing change within two weeks of departure, there would be a $150 change fee plus the difference in fare. the frankfurt flight is about $100 more than what you already paid for the paris routing. so the total to change would be $150 + $100 for $250. does that work for your budget?\\ncustomer: , that's a bit more than i was hoping to pay. any chance we could waive the change fee since this is sort of an emergency on my part? i've been a united customer for years and this is really first time i've needed to change a flight.\\nagent: , flight changes can definitely throw a wrench in plans. let me take a look at your loyalty account really quickly... you're right, it looks like you've been a loyal customer  for 10 years, with no other changes or cancellations on your record. i think in this case we can make an exception and waive the change fee. the difference in fare would still apply, so the total to change to the frankfurt flight would just be $100. does that work better for you?\\ncustomer: yes, that's much more doable.  so much for your help and for waiving the fee, i really  it. okay, let's go ahead and change it to the frankfurt flight then. you've saved my trip!\\nagent: you're very welcome, i'm glad i could help get you on that earlier flight. one moment while i process the change for you...okay, all set! your new itinerary is confirmed with the stop in frankfurt.  for flying united and safe travels!\\ncustomer: thanks ! have a good one.\\nagent: you too, !\",\n          \"agent:  for calling united airlines, my name is sam. how can i help you today?\\ncustomer: hi sam, thanks for taking my call. i'm calling to inquire about changing the dates of my upcoming flight from new york to la. my flight is this friday but something has come up and i need to travel a few days later instead.\\nagent: no problem, let me pull up your reservation. what's the name the ticket is booked under?\\ncustomer: it's booked for john smith.\\nagent: okay, got it. let me take a look at our flight options for later dates. , it looks like we have seats available on sunday and monday. would one of those days work better for you?\\ncustomer: yeah, those dates would work. what would the cost be to change it to one of those days? i'm hoping it won't be too much more than what i already paid.\\nagent:  just one second while i check the fare difference... alright, it looks like we can change you to the sunday flight and the additional charge would only be $50 more than your original ticket. does that work for your budget?\\ncustomer: you know, that's actually not too bad. i was expecting a much bigger change fee. sunday will work then, go ahead and switch me over to that flight.\\nagent: no problem, i'm happy i could find an option that fit your schedule and budget. just give me a moment here to process the change...okay, all set! you're now booked on the sunday flight from new york to la. the additional $50 will be charged to the credit card we have on file.  for being so flexible on your dates - i'm sure this will make your travel plans a little less stressful. is there anything else i can help you with today?\\ncustomer: no, i think that covers it. thanks so much for your help, sam. i really  you getting me switched over to the new flight.\\nagent: you're very welcome! i'm glad we could work something out. safe travels and enjoy your trip. thanks for calling united airlines, have a great rest of your day!\\ncustomer: you too, thanks !\\nagent:\"\n        ],\n        \"semantic_type\": \"\",\n        \"description\": \"\"\n      }\n    },\n    {\n      \"column\": \"primary_call_reason\",\n      \"properties\": {\n        \"dtype\": \"category\",\n        \"num_unique_values\": 20,\n        \"samples\": [\n          \"voluntary cancel\",\n          \"baggage\",\n          \"disability\"\n        ],\n        \"semantic_type\": \"\",\n        \"description\": \"\"\n      }\n    }\n  ]\n}"
            }
          },
          "metadata": {},
          "execution_count": 9
        }
      ]
    },
    {
      "cell_type": "code",
      "source": [
        "import re\n",
        "\n",
        "def preprocess_transcript(transcript):\n",
        "    # Remove agent and customer identifiers\n",
        "    transcript = re.sub(r\"agent:|customer:\", \"\", transcript)\n",
        "    # Remove extra whitespace and line breaks\n",
        "    transcript = re.sub(r\"\\s+\", \" \", transcript).strip()\n",
        "    return transcript\n",
        "\n",
        "\n",
        "df['cleaned_transcript'] = df['cleaned_transcript'].apply(preprocess_transcript)\n"
      ],
      "metadata": {
        "colab": {
          "base_uri": "https://localhost:8080/"
        },
        "id": "oeWonZDfm9ep",
        "outputId": "7660af61-fd7f-4c21-d075-83cfcfa28221"
      },
      "execution_count": 7,
      "outputs": [
        {
          "output_type": "stream",
          "name": "stderr",
          "text": [
            "<ipython-input-7-551e58f587a8>:11: SettingWithCopyWarning: \n",
            "A value is trying to be set on a copy of a slice from a DataFrame.\n",
            "Try using .loc[row_indexer,col_indexer] = value instead\n",
            "\n",
            "See the caveats in the documentation: https://pandas.pydata.org/pandas-docs/stable/user_guide/indexing.html#returning-a-view-versus-a-copy\n",
            "  df['cleaned_transcript'] = df['cleaned_transcript'].apply(preprocess_transcript)\n"
          ]
        }
      ]
    },
    {
      "cell_type": "code",
      "source": [
        "\n"
      ],
      "metadata": {
        "id": "OvE3VgT-XeWU"
      },
      "execution_count": 14,
      "outputs": []
    },
    {
      "cell_type": "code",
      "source": [
        "x_train,x_test,y_train,y_test = train_test_split(df['cleaned_transcript'], df.primary_call_reason, test_size=0.2, random_state=2020)\n"
      ],
      "metadata": {
        "id": "AsR_VkVTX2wQ"
      },
      "execution_count": 8,
      "outputs": []
    },
    {
      "cell_type": "markdown",
      "metadata": {
        "id": "rRNcM9pigUJL"
      },
      "source": [
        "# Logistic Regression Classifier"
      ]
    },
    {
      "cell_type": "code",
      "metadata": {
        "trusted": true,
        "id": "wBqu6PKrgUJM",
        "outputId": "c0cf1832-9659-4053-d447-c2e4d1e3c7e7",
        "colab": {
          "base_uri": "https://localhost:8080/"
        }
      },
      "source": [
        "\n",
        "pipe = Pipeline([('vect', TfidfVectorizer()),\n",
        "                 ('model', LogisticRegression(max_iter=1000))])\n",
        "\n",
        "model = pipe.fit(x_train, y_train)\n",
        "prediction = model.predict(x_test)\n",
        "print(\"accuracy: {}%\".format(round(accuracy_score(y_test, prediction)*100,2)))"
      ],
      "execution_count": 15,
      "outputs": [
        {
          "output_type": "stream",
          "name": "stdout",
          "text": [
            "accuracy: 20.86%\n"
          ]
        }
      ]
    },
    {
      "source": [],
      "cell_type": "code",
      "metadata": {
        "id": "1lQM1VKQlqTZ"
      },
      "execution_count": null,
      "outputs": []
    },
    {
      "cell_type": "markdown",
      "metadata": {
        "id": "nK_gKNk7gUJO"
      },
      "source": [
        "# Support Vector Classifier"
      ]
    },
    {
      "cell_type": "code",
      "metadata": {
        "trusted": true,
        "id": "whmyeX-NgUJO",
        "outputId": "c825c692-5250-4a86-cb5d-def4f06217b1",
        "colab": {
          "base_uri": "https://localhost:8080/"
        }
      },
      "source": [
        "\n",
        "pipe = Pipeline([('vect', TfidfVectorizer()),\n",
        "                 ('model', LinearSVC())])\n",
        "\n",
        "model = pipe.fit(x_train, y_train)\n",
        "prediction = model.predict(x_test)\n",
        "print(\"accuracy: {}%\".format(round(accuracy_score(y_test, prediction)*100,2)))"
      ],
      "execution_count": 16,
      "outputs": [
        {
          "output_type": "stream",
          "name": "stdout",
          "text": [
            "accuracy: 19.03%\n"
          ]
        }
      ]
    },
    {
      "cell_type": "markdown",
      "metadata": {
        "id": "ToNTgW7-gUJQ"
      },
      "source": [
        "# Multinomial Naive Bayes Classifier"
      ]
    },
    {
      "cell_type": "code",
      "metadata": {
        "trusted": true,
        "id": "98GCpJIJgUJQ",
        "outputId": "cfb128cb-ed22-4364-d083-17ec16eba721",
        "colab": {
          "base_uri": "https://localhost:8080/"
        }
      },
      "source": [
        "pipe = Pipeline([('vect', TfidfVectorizer()),\n",
        "                 ('model', MultinomialNB())])\n",
        "\n",
        "model = pipe.fit(x_train, y_train)\n",
        "prediction = model.predict(x_test)\n",
        "print(\"accuracy: {}%\".format(round(accuracy_score(y_test, prediction)*100,2)))"
      ],
      "execution_count": 17,
      "outputs": [
        {
          "output_type": "stream",
          "name": "stdout",
          "text": [
            "accuracy: 20.31%\n"
          ]
        }
      ]
    },
    {
      "cell_type": "markdown",
      "metadata": {
        "id": "MxF5hC1zgUJS"
      },
      "source": [
        "# Bernoulli Naive Bayes Classifier"
      ]
    },
    {
      "cell_type": "code",
      "metadata": {
        "trusted": true,
        "id": "cjqSQm5FgUJT",
        "outputId": "2fc17f35-e99b-44fe-dfc7-d4556fd2e70f",
        "colab": {
          "base_uri": "https://localhost:8080/"
        }
      },
      "source": [
        "pipe = Pipeline([('vect', TfidfVectorizer()),\n",
        "                 ('model', BernoulliNB())])\n",
        "\n",
        "model = pipe.fit(x_train, y_train)\n",
        "prediction = model.predict(x_test)\n",
        "print(\"accuracy: {}%\".format(round(accuracy_score(y_test, prediction)*100,2)))"
      ],
      "execution_count": 18,
      "outputs": [
        {
          "output_type": "stream",
          "name": "stdout",
          "text": [
            "accuracy: 19.56%\n"
          ]
        }
      ]
    },
    {
      "cell_type": "markdown",
      "metadata": {
        "id": "_VMlu-OAgUJa"
      },
      "source": [
        "# Stochastic Gradient Descent"
      ]
    },
    {
      "cell_type": "code",
      "metadata": {
        "trusted": true,
        "id": "_cDvPkizgUJa",
        "outputId": "b99e77a3-9d9d-4932-adf2-0a36ab648f92",
        "colab": {
          "base_uri": "https://localhost:8080/"
        }
      },
      "source": [
        "pipe = Pipeline([('vect', CountVectorizer()),\n",
        "                 ('tfidf', TfidfTransformer()),\n",
        "                 ('model', SGDClassifier())])\n",
        "\n",
        "model = pipe.fit(x_train, y_train)\n",
        "prediction = model.predict(x_test)\n",
        "print(\"accuracy: {}%\".format(round(accuracy_score(y_test, prediction)*100,2)))"
      ],
      "execution_count": 9,
      "outputs": [
        {
          "output_type": "stream",
          "name": "stdout",
          "text": [
            "accuracy: 11.54%\n"
          ]
        }
      ]
    },
    {
      "cell_type": "markdown",
      "metadata": {
        "id": "M1xmABpNgUJc"
      },
      "source": [
        "# Decision Tree"
      ]
    },
    {
      "cell_type": "code",
      "metadata": {
        "trusted": true,
        "id": "QgPuyN7YgUJc",
        "outputId": "a226f14b-5998-4af2-b042-8e6d4d09dcd6",
        "colab": {
          "base_uri": "https://localhost:8080/"
        }
      },
      "source": [
        "pipe = Pipeline([('vect', TfidfVectorizer()),\n",
        "                 ('model', DecisionTreeClassifier(criterion= 'entropy',\n",
        "                                           max_depth = 10,\n",
        "                                           splitter='best',\n",
        "                                           random_state=2020))])\n",
        "\n",
        "model = pipe.fit(x_train, y_train)\n",
        "prediction = model.predict(x_test)\n",
        "print(\"accuracy: {}%\".format(round(accuracy_score(y_test, prediction)*100,2)))"
      ],
      "execution_count": 10,
      "outputs": [
        {
          "output_type": "stream",
          "name": "stdout",
          "text": [
            "accuracy: 19.29%\n"
          ]
        }
      ]
    },
    {
      "cell_type": "markdown",
      "metadata": {
        "id": "T-88yLE2gUJe"
      },
      "source": [
        "# Random Forest Classifier"
      ]
    },
    {
      "cell_type": "code",
      "metadata": {
        "trusted": true,
        "id": "MtfSCVKhgUJf",
        "outputId": "34be32b3-ab68-47ec-ef8f-8c002e0d5d78",
        "colab": {
          "base_uri": "https://localhost:8080/"
        }
      },
      "source": [
        "pipe = Pipeline([\n",
        "                 ('tfidf', TfidfVectorizer()),\n",
        "                 ('model', RandomForestClassifier())])\n",
        "\n",
        "model = pipe.fit(x_train, y_train)\n",
        "prediction = model.predict(x_test)\n",
        "print(\"accuracy: {}%\".format(round(accuracy_score(y_test, prediction)*100,2)))"
      ],
      "execution_count": 11,
      "outputs": [
        {
          "output_type": "stream",
          "name": "stdout",
          "text": [
            "accuracy: 19.77%\n"
          ]
        }
      ]
    },
    {
      "cell_type": "markdown",
      "metadata": {
        "id": "0KSxugy9gUJh"
      },
      "source": [
        "# KNN Classifier"
      ]
    },
    {
      "cell_type": "code",
      "metadata": {
        "trusted": true,
        "id": "ZCXVu268gUJh",
        "outputId": "e91bbd07-7f6a-4b7a-bdef-18b0e21401a5",
        "colab": {
          "base_uri": "https://localhost:8080/"
        }
      },
      "source": [
        "pipe = Pipeline([('vect', CountVectorizer()),\n",
        "                 ('tfidf', TfidfTransformer()),\n",
        "                 ('model', KNeighborsClassifier(n_neighbors = 20,weights = 'distance',algorithm = 'brute'))])\n",
        "\n",
        "model = pipe.fit(x_train, y_train)\n",
        "prediction = model.predict(x_test)\n",
        "print(\"accuracy: {}%\".format(round(accuracy_score(y_test, prediction)*100,2)))"
      ],
      "execution_count": 13,
      "outputs": [
        {
          "output_type": "stream",
          "name": "stdout",
          "text": [
            "accuracy: 16.68%\n"
          ]
        }
      ]
    },
    {
      "cell_type": "markdown",
      "metadata": {
        "id": "6v6HRHYdgUJj"
      },
      "source": [
        "# LSTM"
      ]
    },
    {
      "cell_type": "code",
      "metadata": {
        "trusted": true,
        "id": "2VU3nO79gUJj"
      },
      "source": [
        "X = df.cleaned_transcript\n",
        "Y = df.primary_call_reason\n",
        "\n",
        "le = LabelEncoder()\n",
        "Y = le.fit_transform(Y)\n",
        "Y = Y.reshape(-1,1)\n"
      ],
      "execution_count": 16,
      "outputs": []
    },
    {
      "cell_type": "code",
      "metadata": {
        "trusted": true,
        "id": "or38pW4sgUJl"
      },
      "source": [
        "X_train,X_test,Y_train,Y_test = train_test_split(X,Y,test_size=0.15)\n",
        "max_words = 500\n",
        "max_len = 75\n",
        "tok = Tokenizer(num_words=max_words)\n",
        "tok.fit_on_texts(X_train)\n",
        "sequences = tok.texts_to_sequences(X_train)\n",
        "sequences_matrix = sequence.pad_sequences(sequences,maxlen=max_len)\n",
        "def RNN():\n",
        "    inputs = Input(name='inputs',shape=[max_len])\n",
        "    layer = Embedding(max_words,50,input_length=max_len)(inputs)\n",
        "    layer = LSTM(64)(layer)\n",
        "    layer = Dense(256,name='FC1')(layer)\n",
        "    layer = Activation('relu')(layer)\n",
        "    layer = Dropout(0.5)(layer)\n",
        "    num_classes = len(le.classes_)\n",
        "    layer = Dense(num_classes,name='out_layer')(layer)\n",
        "    layer = Activation('softmax')(layer)\n",
        "    model = Model(inputs=inputs,outputs=layer)\n",
        "    return model\n",
        "model = RNN()"
      ],
      "execution_count": 23,
      "outputs": []
    },
    {
      "cell_type": "code",
      "metadata": {
        "trusted": true,
        "id": "8Y5sd4-WgUJn",
        "colab": {
          "base_uri": "https://localhost:8080/"
        },
        "outputId": "767dc8ee-9a0c-4525-dd4d-16e33788787d"
      },
      "source": [
        "from tensorflow.keras.utils import plot_model\n",
        "plot_model(model, to_file='model1.png')\n",
        "model.compile(loss='sparse_categorical_crossentropy',optimizer=RMSprop(),metrics=['accuracy'])\n"
      ],
      "execution_count": 24,
      "outputs": [
        {
          "output_type": "stream",
          "name": "stdout",
          "text": [
            "You must install pydot (`pip install pydot`) and install graphviz (see instructions at https://graphviz.gitlab.io/download/) for plot_model to work.\n"
          ]
        }
      ]
    },
    {
      "cell_type": "code",
      "metadata": {
        "trusted": true,
        "id": "fnbKRWLygUJp",
        "outputId": "a352ab55-8c3d-4684-ca64-36a0fe42da41",
        "colab": {
          "base_uri": "https://localhost:8080/"
        }
      },
      "source": [
        "model.fit(sequences_matrix,Y_train,batch_size=256,epochs=10,\n",
        "          validation_split=0.2,callbacks=[EarlyStopping(monitor='val_loss',min_delta=0.0001)])"
      ],
      "execution_count": 25,
      "outputs": [
        {
          "output_type": "stream",
          "name": "stdout",
          "text": [
            "Epoch 1/10\n",
            "178/178 [==============================] - 23s 118ms/step - loss: 2.6220 - accuracy: 0.1910 - val_loss: 2.5804 - val_accuracy: 0.2051\n",
            "Epoch 2/10\n",
            "178/178 [==============================] - 20s 114ms/step - loss: 2.5890 - accuracy: 0.1942 - val_loss: 2.5798 - val_accuracy: 0.2051\n",
            "Epoch 3/10\n",
            "178/178 [==============================] - 20s 114ms/step - loss: 2.5849 - accuracy: 0.1969 - val_loss: 2.5600 - val_accuracy: 0.2051\n",
            "Epoch 4/10\n",
            "178/178 [==============================] - 20s 114ms/step - loss: 2.5834 - accuracy: 0.1993 - val_loss: 2.5827 - val_accuracy: 0.2051\n"
          ]
        },
        {
          "output_type": "execute_result",
          "data": {
            "text/plain": [
              "<keras.src.callbacks.History at 0x7e875c6313c0>"
            ]
          },
          "metadata": {},
          "execution_count": 25
        }
      ]
    },
    {
      "cell_type": "code",
      "metadata": {
        "trusted": true,
        "id": "3IygSHaZgUJr",
        "outputId": "35850898-44b1-4d60-f5cf-17b0d740d649",
        "colab": {
          "base_uri": "https://localhost:8080/"
        }
      },
      "source": [
        "test_sequences = tok.texts_to_sequences(X_test)\n",
        "test_sequences_matrix = sequence.pad_sequences(test_sequences,maxlen=max_len)\n",
        "accr = model.evaluate(test_sequences_matrix,Y_test)\n",
        "print('Accuracy: {:0.2f}'.format(accr[1]))\n"
      ],
      "execution_count": 26,
      "outputs": [
        {
          "output_type": "stream",
          "name": "stdout",
          "text": [
            "313/313 [==============================] - 3s 11ms/step - loss: 2.5898 - accuracy: 0.1954\n",
            "Accuracy: 0.20\n"
          ]
        }
      ]
    },
    {
      "cell_type": "markdown",
      "metadata": {
        "id": "84yJLZyjgUJY"
      },
      "source": [
        "# XGBoost Classifier"
      ]
    },
    {
      "source": [
        "!pip install nltk xgboost\n",
        "import nltk\n",
        "nltk.download('punkt')\n",
        "nltk.download('stopwords')\n",
        "from nltk.corpus import stopwords\n",
        "from nltk.tokenize import word_tokenize\n",
        "from sklearn.feature_extraction.text import TfidfVectorizer\n",
        "from sklearn.model_selection import train_test_split\n",
        "from sklearn.pipeline import Pipeline\n",
        "from sklearn.metrics import accuracy_score\n",
        "from xgboost import XGBClassifier\n",
        "from sklearn.preprocessing import LabelEncoder\n",
        "import pandas as pd\n",
        "\n",
        "# 1. Preprocessing Function:\n",
        "def preprocess_text(text):\n",
        "    tokens = word_tokenize(text.lower())\n",
        "    stop_words = set(stopwords.words('english'))\n",
        "    tokens = [token for token in tokens if token.isalnum() and token not in stop_words]\n",
        "    return ' '.join(tokens)\n",
        "\n",
        "# Apply Preprocessing:\n",
        "small_df['cleaned_transcript'] = small_df['cleaned_transcript'].apply(preprocess_text)\n",
        "\n",
        "# 2. Define the Pipeline:\n",
        "# Remove LabelEncoder from the pipeline\n",
        "pipeline = Pipeline([\n",
        "    ('tfidf', TfidfVectorizer(ngram_range=(1, 2))),\n",
        "    ('classifier', XGBClassifier(n_estimators=100, random_state=42)),\n",
        "])\n",
        "\n",
        "# 3. Train-Test Split:\n",
        "x_train, x_test, y_train, y_test = train_test_split(\n",
        "    small_df['cleaned_transcript'], small_df.primary_call_reason, test_size=0.2, random_state=2020\n",
        ")\n",
        "\n",
        "# 4. Train the Pipeline:\n",
        "# Fit the label encoder separately on the training target variable\n",
        "le = LabelEncoder()\n",
        "y_train_encoded = le.fit_transform(y_train)\n",
        "\n",
        "# Fit the pipeline using the encoded target variable\n",
        "pipeline.fit(x_train, y_train_encoded)\n",
        "\n",
        "# 5. Make Predictions:\n",
        "# Transform the test target variable using the fitted label encoder\n",
        "y_test_encoded = le.transform(y_test)\n",
        "predictions = pipeline.predict(x_test)\n",
        "\n",
        "# 6. Evaluate the Model:\n",
        "# Use the encoded target variables for evaluation\n",
        "accuracy = accuracy_score(y_test_encoded, predictions)\n",
        "print(\"Accuracy: {}%\".format(round(accuracy * 100, 2)))"
      ],
      "cell_type": "code",
      "metadata": {
        "colab": {
          "base_uri": "https://localhost:8080/"
        },
        "id": "H8LPmncFtgd_",
        "outputId": "9065c0af-1662-40ea-e1b8-a85092c4e0c4"
      },
      "execution_count": 15,
      "outputs": [
        {
          "output_type": "stream",
          "name": "stdout",
          "text": [
            "Requirement already satisfied: nltk in /usr/local/lib/python3.10/dist-packages (3.8.1)\n",
            "Requirement already satisfied: xgboost in /usr/local/lib/python3.10/dist-packages (2.1.1)\n",
            "Requirement already satisfied: click in /usr/local/lib/python3.10/dist-packages (from nltk) (8.1.7)\n",
            "Requirement already satisfied: joblib in /usr/local/lib/python3.10/dist-packages (from nltk) (1.4.2)\n",
            "Requirement already satisfied: regex>=2021.8.3 in /usr/local/lib/python3.10/dist-packages (from nltk) (2024.9.11)\n",
            "Requirement already satisfied: tqdm in /usr/local/lib/python3.10/dist-packages (from nltk) (4.66.5)\n",
            "Requirement already satisfied: numpy in /usr/local/lib/python3.10/dist-packages (from xgboost) (1.26.4)\n",
            "Requirement already satisfied: nvidia-nccl-cu12 in /usr/local/lib/python3.10/dist-packages (from xgboost) (2.23.4)\n",
            "Requirement already satisfied: scipy in /usr/local/lib/python3.10/dist-packages (from xgboost) (1.13.1)\n"
          ]
        },
        {
          "output_type": "stream",
          "name": "stderr",
          "text": [
            "[nltk_data] Downloading package punkt to /root/nltk_data...\n",
            "[nltk_data]   Package punkt is already up-to-date!\n",
            "[nltk_data] Downloading package stopwords to /root/nltk_data...\n",
            "[nltk_data]   Package stopwords is already up-to-date!\n",
            "<ipython-input-15-e8974ba73026>:23: SettingWithCopyWarning: \n",
            "A value is trying to be set on a copy of a slice from a DataFrame.\n",
            "Try using .loc[row_indexer,col_indexer] = value instead\n",
            "\n",
            "See the caveats in the documentation: https://pandas.pydata.org/pandas-docs/stable/user_guide/indexing.html#returning-a-view-versus-a-copy\n",
            "  small_df['cleaned_transcript'] = small_df['cleaned_transcript'].apply(preprocess_text)\n"
          ]
        },
        {
          "output_type": "stream",
          "name": "stdout",
          "text": [
            "Accuracy: 21.06%\n"
          ]
        }
      ]
    },
    {
      "cell_type": "code",
      "source": [],
      "metadata": {
        "id": "a62DV6MHsoRD"
      },
      "execution_count": 15,
      "outputs": []
    }
  ]
}